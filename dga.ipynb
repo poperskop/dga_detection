{
  "cells": [
    {
      "cell_type": "code",
      "source": [
        "import pandas as pd\n",
        "import torch\n",
        "import torch.nn as nn\n",
        "import transformers\n",
        "from torch.utils.data import Dataset, DataLoader\n",
        "from transformers import DistilBertModel, DistilBertTokenizer\n",
        "from sklearn.metrics import confusion_matrix\n",
        "from sklearn.model_selection import train_test_split\n",
        "import re\n",
        "import matplotlib.pyplot as plt\n",
        "import sys\n",
        "import numpy as np\n",
        "import warnings\n",
        "warnings.filterwarnings('ignore')\n",
        "torch.manual_seed(42)"
      ],
      "metadata": {
        "id": "X3HegM8TaRS2",
        "colab": {
          "base_uri": "https://localhost:8080/"
        },
        "outputId": "388d601c-6381-4915-f9bd-7c5b2b876667"
      },
      "execution_count": null,
      "outputs": [
        {
          "output_type": "execute_result",
          "data": {
            "text/plain": [
              "<torch._C.Generator at 0x7f51a4711bf0>"
            ]
          },
          "metadata": {},
          "execution_count": 8
        }
      ]
    },
    {
      "cell_type": "code",
      "source": [
        "def load():\n",
        "    df_train = pd.read_csv('val.csv')\n",
        "    df_train['domain'] = df_train.domain.map(lambda x: re.split('\\..+', x)[0])\n",
        "    max_len = min(df_train['domain'].map(len).max(), 512)\n",
        "    df_train, df_test = train_test_split(df_train, random_state=42, test_size=0.2, stratify=df_train.is_dga)\n",
        "    return df_train, df_test, max_len\n",
        "\n",
        "df_train, df_test, max_len = load()"
      ],
      "metadata": {
        "id": "mIhiYXRhnOf4"
      },
      "execution_count": null,
      "outputs": []
    },
    {
      "cell_type": "code",
      "source": [
        "print(df_train.shape, df_test.shape, max_len.shape)"
      ],
      "metadata": {
        "colab": {
          "base_uri": "https://localhost:8080/"
        },
        "id": "Q01ihLDgnfVV",
        "outputId": "f814d94b-8179-42e8-92c2-1e6e227a3ebd"
      },
      "execution_count": null,
      "outputs": [
        {
          "output_type": "stream",
          "name": "stdout",
          "text": [
            "(8000, 2) (2000, 2) ()\n"
          ]
        }
      ]
    },
    {
      "cell_type": "code",
      "source": [
        "from torch import cuda\n",
        "device = 'cuda' if cuda.is_available() else 'cpu'\n",
        "print(device)"
      ],
      "metadata": {
        "colab": {
          "base_uri": "https://localhost:8080/"
        },
        "id": "IWuW7vdabpkt",
        "outputId": "cc15d3ef-bc6e-4862-8a64-9b238207b6b2"
      },
      "execution_count": null,
      "outputs": [
        {
          "output_type": "stream",
          "name": "stdout",
          "text": [
            "cuda\n"
          ]
        }
      ]
    },
    {
      "cell_type": "code",
      "execution_count": null,
      "metadata": {
        "colab": {
          "base_uri": "https://localhost:8080/",
          "height": 129
        },
        "id": "JrZEIoU9v0WE",
        "outputId": "9e30ec74-7267-4b60-a434-f1b308692667"
      },
      "outputs": [
        {
          "output_type": "stream",
          "name": "stdout",
          "text": [
            "(10000, 2) (10000, 1)\n"
          ]
        },
        {
          "output_type": "execute_result",
          "data": {
            "text/plain": [
              "         domain  is_dga\n",
              "0    r8s3-zzdxp       1\n",
              "1  mysolarfocus       0"
            ],
            "text/html": [
              "\n",
              "  <div id=\"df-a7395211-2ce0-489e-8a4f-2da7e12e8ad9\" class=\"colab-df-container\">\n",
              "    <div>\n",
              "<style scoped>\n",
              "    .dataframe tbody tr th:only-of-type {\n",
              "        vertical-align: middle;\n",
              "    }\n",
              "\n",
              "    .dataframe tbody tr th {\n",
              "        vertical-align: top;\n",
              "    }\n",
              "\n",
              "    .dataframe thead th {\n",
              "        text-align: right;\n",
              "    }\n",
              "</style>\n",
              "<table border=\"1\" class=\"dataframe\">\n",
              "  <thead>\n",
              "    <tr style=\"text-align: right;\">\n",
              "      <th></th>\n",
              "      <th>domain</th>\n",
              "      <th>is_dga</th>\n",
              "    </tr>\n",
              "  </thead>\n",
              "  <tbody>\n",
              "    <tr>\n",
              "      <th>0</th>\n",
              "      <td>r8s3-zzdxp</td>\n",
              "      <td>1</td>\n",
              "    </tr>\n",
              "    <tr>\n",
              "      <th>1</th>\n",
              "      <td>mysolarfocus</td>\n",
              "      <td>0</td>\n",
              "    </tr>\n",
              "  </tbody>\n",
              "</table>\n",
              "</div>\n",
              "    <div class=\"colab-df-buttons\">\n",
              "\n",
              "  <div class=\"colab-df-container\">\n",
              "    <button class=\"colab-df-convert\" onclick=\"convertToInteractive('df-a7395211-2ce0-489e-8a4f-2da7e12e8ad9')\"\n",
              "            title=\"Convert this dataframe to an interactive table.\"\n",
              "            style=\"display:none;\">\n",
              "\n",
              "  <svg xmlns=\"http://www.w3.org/2000/svg\" height=\"24px\" viewBox=\"0 -960 960 960\">\n",
              "    <path d=\"M120-120v-720h720v720H120Zm60-500h600v-160H180v160Zm220 220h160v-160H400v160Zm0 220h160v-160H400v160ZM180-400h160v-160H180v160Zm440 0h160v-160H620v160ZM180-180h160v-160H180v160Zm440 0h160v-160H620v160Z\"/>\n",
              "  </svg>\n",
              "    </button>\n",
              "\n",
              "  <style>\n",
              "    .colab-df-container {\n",
              "      display:flex;\n",
              "      gap: 12px;\n",
              "    }\n",
              "\n",
              "    .colab-df-convert {\n",
              "      background-color: #E8F0FE;\n",
              "      border: none;\n",
              "      border-radius: 50%;\n",
              "      cursor: pointer;\n",
              "      display: none;\n",
              "      fill: #1967D2;\n",
              "      height: 32px;\n",
              "      padding: 0 0 0 0;\n",
              "      width: 32px;\n",
              "    }\n",
              "\n",
              "    .colab-df-convert:hover {\n",
              "      background-color: #E2EBFA;\n",
              "      box-shadow: 0px 1px 2px rgba(60, 64, 67, 0.3), 0px 1px 3px 1px rgba(60, 64, 67, 0.15);\n",
              "      fill: #174EA6;\n",
              "    }\n",
              "\n",
              "    .colab-df-buttons div {\n",
              "      margin-bottom: 4px;\n",
              "    }\n",
              "\n",
              "    [theme=dark] .colab-df-convert {\n",
              "      background-color: #3B4455;\n",
              "      fill: #D2E3FC;\n",
              "    }\n",
              "\n",
              "    [theme=dark] .colab-df-convert:hover {\n",
              "      background-color: #434B5C;\n",
              "      box-shadow: 0px 1px 3px 1px rgba(0, 0, 0, 0.15);\n",
              "      filter: drop-shadow(0px 1px 2px rgba(0, 0, 0, 0.3));\n",
              "      fill: #FFFFFF;\n",
              "    }\n",
              "  </style>\n",
              "\n",
              "    <script>\n",
              "      const buttonEl =\n",
              "        document.querySelector('#df-a7395211-2ce0-489e-8a4f-2da7e12e8ad9 button.colab-df-convert');\n",
              "      buttonEl.style.display =\n",
              "        google.colab.kernel.accessAllowed ? 'block' : 'none';\n",
              "\n",
              "      async function convertToInteractive(key) {\n",
              "        const element = document.querySelector('#df-a7395211-2ce0-489e-8a4f-2da7e12e8ad9');\n",
              "        const dataTable =\n",
              "          await google.colab.kernel.invokeFunction('convertToInteractive',\n",
              "                                                    [key], {});\n",
              "        if (!dataTable) return;\n",
              "\n",
              "        const docLinkHtml = 'Like what you see? Visit the ' +\n",
              "          '<a target=\"_blank\" href=https://colab.research.google.com/notebooks/data_table.ipynb>data table notebook</a>'\n",
              "          + ' to learn more about interactive tables.';\n",
              "        element.innerHTML = '';\n",
              "        dataTable['output_type'] = 'display_data';\n",
              "        await google.colab.output.renderOutput(dataTable, element);\n",
              "        const docLink = document.createElement('div');\n",
              "        docLink.innerHTML = docLinkHtml;\n",
              "        element.appendChild(docLink);\n",
              "      }\n",
              "    </script>\n",
              "  </div>\n",
              "\n",
              "\n",
              "<div id=\"df-fd7c4ef9-6edd-41ce-a186-2f2956bf5ece\">\n",
              "  <button class=\"colab-df-quickchart\" onclick=\"quickchart('df-fd7c4ef9-6edd-41ce-a186-2f2956bf5ece')\"\n",
              "            title=\"Suggest charts\"\n",
              "            style=\"display:none;\">\n",
              "\n",
              "<svg xmlns=\"http://www.w3.org/2000/svg\" height=\"24px\"viewBox=\"0 0 24 24\"\n",
              "     width=\"24px\">\n",
              "    <g>\n",
              "        <path d=\"M19 3H5c-1.1 0-2 .9-2 2v14c0 1.1.9 2 2 2h14c1.1 0 2-.9 2-2V5c0-1.1-.9-2-2-2zM9 17H7v-7h2v7zm4 0h-2V7h2v10zm4 0h-2v-4h2v4z\"/>\n",
              "    </g>\n",
              "</svg>\n",
              "  </button>\n",
              "\n",
              "<style>\n",
              "  .colab-df-quickchart {\n",
              "      --bg-color: #E8F0FE;\n",
              "      --fill-color: #1967D2;\n",
              "      --hover-bg-color: #E2EBFA;\n",
              "      --hover-fill-color: #174EA6;\n",
              "      --disabled-fill-color: #AAA;\n",
              "      --disabled-bg-color: #DDD;\n",
              "  }\n",
              "\n",
              "  [theme=dark] .colab-df-quickchart {\n",
              "      --bg-color: #3B4455;\n",
              "      --fill-color: #D2E3FC;\n",
              "      --hover-bg-color: #434B5C;\n",
              "      --hover-fill-color: #FFFFFF;\n",
              "      --disabled-bg-color: #3B4455;\n",
              "      --disabled-fill-color: #666;\n",
              "  }\n",
              "\n",
              "  .colab-df-quickchart {\n",
              "    background-color: var(--bg-color);\n",
              "    border: none;\n",
              "    border-radius: 50%;\n",
              "    cursor: pointer;\n",
              "    display: none;\n",
              "    fill: var(--fill-color);\n",
              "    height: 32px;\n",
              "    padding: 0;\n",
              "    width: 32px;\n",
              "  }\n",
              "\n",
              "  .colab-df-quickchart:hover {\n",
              "    background-color: var(--hover-bg-color);\n",
              "    box-shadow: 0 1px 2px rgba(60, 64, 67, 0.3), 0 1px 3px 1px rgba(60, 64, 67, 0.15);\n",
              "    fill: var(--button-hover-fill-color);\n",
              "  }\n",
              "\n",
              "  .colab-df-quickchart-complete:disabled,\n",
              "  .colab-df-quickchart-complete:disabled:hover {\n",
              "    background-color: var(--disabled-bg-color);\n",
              "    fill: var(--disabled-fill-color);\n",
              "    box-shadow: none;\n",
              "  }\n",
              "\n",
              "  .colab-df-spinner {\n",
              "    border: 2px solid var(--fill-color);\n",
              "    border-color: transparent;\n",
              "    border-bottom-color: var(--fill-color);\n",
              "    animation:\n",
              "      spin 1s steps(1) infinite;\n",
              "  }\n",
              "\n",
              "  @keyframes spin {\n",
              "    0% {\n",
              "      border-color: transparent;\n",
              "      border-bottom-color: var(--fill-color);\n",
              "      border-left-color: var(--fill-color);\n",
              "    }\n",
              "    20% {\n",
              "      border-color: transparent;\n",
              "      border-left-color: var(--fill-color);\n",
              "      border-top-color: var(--fill-color);\n",
              "    }\n",
              "    30% {\n",
              "      border-color: transparent;\n",
              "      border-left-color: var(--fill-color);\n",
              "      border-top-color: var(--fill-color);\n",
              "      border-right-color: var(--fill-color);\n",
              "    }\n",
              "    40% {\n",
              "      border-color: transparent;\n",
              "      border-right-color: var(--fill-color);\n",
              "      border-top-color: var(--fill-color);\n",
              "    }\n",
              "    60% {\n",
              "      border-color: transparent;\n",
              "      border-right-color: var(--fill-color);\n",
              "    }\n",
              "    80% {\n",
              "      border-color: transparent;\n",
              "      border-right-color: var(--fill-color);\n",
              "      border-bottom-color: var(--fill-color);\n",
              "    }\n",
              "    90% {\n",
              "      border-color: transparent;\n",
              "      border-bottom-color: var(--fill-color);\n",
              "    }\n",
              "  }\n",
              "</style>\n",
              "\n",
              "  <script>\n",
              "    async function quickchart(key) {\n",
              "      const quickchartButtonEl =\n",
              "        document.querySelector('#' + key + ' button');\n",
              "      quickchartButtonEl.disabled = true;  // To prevent multiple clicks.\n",
              "      quickchartButtonEl.classList.add('colab-df-spinner');\n",
              "      try {\n",
              "        const charts = await google.colab.kernel.invokeFunction(\n",
              "            'suggestCharts', [key], {});\n",
              "      } catch (error) {\n",
              "        console.error('Error during call to suggestCharts:', error);\n",
              "      }\n",
              "      quickchartButtonEl.classList.remove('colab-df-spinner');\n",
              "      quickchartButtonEl.classList.add('colab-df-quickchart-complete');\n",
              "    }\n",
              "    (() => {\n",
              "      let quickchartButtonEl =\n",
              "        document.querySelector('#df-fd7c4ef9-6edd-41ce-a186-2f2956bf5ece button');\n",
              "      quickchartButtonEl.style.display =\n",
              "        google.colab.kernel.accessAllowed ? 'block' : 'none';\n",
              "    })();\n",
              "  </script>\n",
              "</div>\n",
              "    </div>\n",
              "  </div>\n"
            ],
            "application/vnd.google.colaboratory.intrinsic+json": {
              "type": "dataframe",
              "variable_name": "df_train",
              "summary": "{\n  \"name\": \"df_train\",\n  \"rows\": 10000,\n  \"fields\": [\n    {\n      \"column\": \"domain\",\n      \"properties\": {\n        \"dtype\": \"string\",\n        \"num_unique_values\": 9984,\n        \"samples\": [\n          \"q3yb\",\n          \"o42m\",\n          \"bjvowpjk\"\n        ],\n        \"semantic_type\": \"\",\n        \"description\": \"\"\n      }\n    },\n    {\n      \"column\": \"is_dga\",\n      \"properties\": {\n        \"dtype\": \"number\",\n        \"std\": 0,\n        \"min\": 0,\n        \"max\": 1,\n        \"num_unique_values\": 2,\n        \"samples\": [\n          0,\n          1\n        ],\n        \"semantic_type\": \"\",\n        \"description\": \"\"\n      }\n    }\n  ]\n}"
            }
          },
          "metadata": {},
          "execution_count": 3
        }
      ],
      "source": [
        "df_train = pd.read_csv('val.csv')\n",
        "df_test = pd.read_csv('test.csv')\n",
        "\n",
        "# def trans(x):\n",
        "#   pattern = '\\..+'\n",
        "#   return re.split(pattern, x)[0]\n",
        "\n",
        "# df_train['country'] = df_train['domain'].map(trans)\n",
        "\n",
        "print(df_train.shape, df_test.shape)\n",
        "\n",
        "df_train['domain'] = df_train.domain.map(lambda x: re.split('\\..+', x)[0])\n",
        "max_len = min(df_train['domain'].map(len).max(), 512)\n",
        "df_train.head(2)"
      ]
    },
    {
      "cell_type": "code",
      "execution_count": null,
      "metadata": {
        "id": "-oR4E5KyaESJ"
      },
      "outputs": [],
      "source": [
        "tokenizer = transformers.AutoTokenizer.from_pretrained('bert-base-uncased')\n",
        "bert = DistilBertModel.from_pretrained(\"distilbert-base-uncased\")"
      ]
    },
    {
      "cell_type": "code",
      "source": [
        "class DataStorage(Dataset):\n",
        "  def __init__(self, max_l, tokenizer, df, device):\n",
        "    self.df = df\n",
        "    self.max_len = max_l\n",
        "    self.tokenizer = tokenizer\n",
        "    self.device = device\n",
        "\n",
        "  def __getitem__(self, index):\n",
        "        domain = str(self.df.domain[index])\n",
        "        inputs = self.tokenizer.encode_plus(\n",
        "            domain,\n",
        "            None,\n",
        "            add_special_tokens=True,\n",
        "            max_length=self.max_len,\n",
        "            pad_to_max_length=True,\n",
        "            return_token_type_ids=True,\n",
        "            truncation=True,\n",
        "        )\n",
        "        ids = inputs['input_ids']\n",
        "        mask = inputs['attention_mask']\n",
        "\n",
        "        return {\n",
        "            'ids': torch.tensor(ids, dtype=torch.long),\n",
        "            'mask': torch.tensor(mask, dtype=torch.long),\n",
        "            'targets': torch.tensor(self.df.is_dga[index], dtype=torch.long)\n",
        "        }\n",
        "\n",
        "  def __len__(self):\n",
        "        return len(self.df)"
      ],
      "metadata": {
        "id": "bd8b3utmeNV2"
      },
      "execution_count": null,
      "outputs": []
    },
    {
      "cell_type": "code",
      "source": [
        "train_data_set = DataStorage(df=df_train, max_l=max_len, tokenizer=tokenizer, device=device)\n",
        "test_data_set = DataStorage(df=df_test, max_l=max_len, tokenizer=tokenizer, device=device)"
      ],
      "metadata": {
        "id": "gO7am6rQj-hW"
      },
      "execution_count": null,
      "outputs": []
    },
    {
      "cell_type": "code",
      "source": [
        "TRAIN_BATCH_SIZE = 5\n",
        "VALID_BATCH_SIZE = 2\n",
        "\n",
        "\n",
        "train_params = {'batch_size': TRAIN_BATCH_SIZE,\n",
        "                'shuffle': True,\n",
        "                'num_workers': 0\n",
        "                }\n",
        "\n",
        "test_params = {'batch_size': VALID_BATCH_SIZE,\n",
        "                'shuffle': True,\n",
        "                'num_workers': 0\n",
        "                }\n",
        "\n",
        "train_loader = DataLoader(train_data_set, **train_params)\n",
        "test_loader = DataLoader(test_data_set, **train_params)"
      ],
      "metadata": {
        "id": "uIPYdBd6Y-dE"
      },
      "execution_count": null,
      "outputs": []
    },
    {
      "cell_type": "code",
      "execution_count": null,
      "metadata": {
        "id": "_N0ir1jDX7Qs"
      },
      "outputs": [],
      "source": [
        "class NN(nn.Module):\n",
        "    def __init__(self, bert):\n",
        "        super().__init__()\n",
        "        self.bert = bert\n",
        "        self.drop = nn.Dropout(0.1)\n",
        "        self.lin1 = nn.Linear(768, 512)\n",
        "        self.rel = nn.ReLU()\n",
        "        self.lin2 = nn.Linear(512, 2)\n",
        "        self.act = nn.LogSoftmax(dim=1)\n",
        "\n",
        "    def forward(self, ids, mask):\n",
        "        x = self.bert(input_ids=ids, attention_mask=mask)[0]\n",
        "        x = x[:, 0]\n",
        "        x = self.lin1(x)\n",
        "        x = self.rel(x)\n",
        "        x = self.drop(x)\n",
        "        x = self.lin2(x)\n",
        "        x = self.act(x)\n",
        "        return x"
      ]
    },
    {
      "cell_type": "code",
      "execution_count": null,
      "metadata": {
        "colab": {
          "base_uri": "https://localhost:8080/"
        },
        "id": "8Jxd-tMqXAKC",
        "outputId": "b7a8f19f-5530-4249-9e3f-0e23654ddadc"
      },
      "outputs": [
        {
          "output_type": "stream",
          "name": "stdout",
          "text": [
            "Epoch 0: 1900/2000 Loss: 0.02539220079779625"
          ]
        }
      ],
      "source": [
        "model = NN(bert)\n",
        "model = model.to(device)\n",
        "epoch = 1\n",
        "lr = 1e-05\n",
        "opt = torch.optim.AdamW(model.parameters(), lr=lr)\n",
        "loss_f = nn.CrossEntropyLoss()\n",
        "loss_list = []\n",
        "steps = []\n",
        "n_steps = len(train_loader)\n",
        "\n",
        "for ep in range(epoch):\n",
        "  for _, data in enumerate(train_loader, 0):\n",
        "        ids = data['ids'].to(device, dtype = torch.long)\n",
        "        mask = data['mask'].to(device, dtype = torch.long)\n",
        "        y = data['targets'].to(device, dtype = torch.long)\n",
        "\n",
        "        pred = model(ids, mask)\n",
        "\n",
        "        loss = loss_f(pred, y)\n",
        "\n",
        "        opt.zero_grad()\n",
        "\n",
        "        loss.backward()\n",
        "\n",
        "        opt.step()\n",
        "\n",
        "        if _%100 == 0:\n",
        "          loss_list.append(loss.item())\n",
        "          steps.append(_)\n",
        "          sys.stdout.write('\\r')\n",
        "          sys.stdout.write(f'Epoch {ep}: {_}/{n_steps} Loss: {loss.item()}')\n",
        "          sys.stdout.flush()"
      ]
    },
    {
      "cell_type": "code",
      "source": [
        "plt.plot(steps, list(map(lambda x: round(x, 2), loss_list)))\n",
        "plt.ylabel('Loss')\n",
        "plt.xlabel('steps')\n",
        "plt.show()"
      ],
      "metadata": {
        "colab": {
          "base_uri": "https://localhost:8080/",
          "height": 449
        },
        "id": "oRrEDUZC2QiR",
        "outputId": "49a02fb6-1f84-4d8f-86e0-652205c08d07"
      },
      "execution_count": null,
      "outputs": [
        {
          "output_type": "display_data",
          "data": {
            "text/plain": [
              "<Figure size 640x480 with 1 Axes>"
            ],
            "image/png": "[encoded data removed]"
          },
          "metadata": {}
        }
      ]
    },
    {
      "cell_type": "code",
      "execution_count": null,
      "metadata": {
        "id": "TVYaieyZPIHt"
      },
      "outputs": [],
      "source": [
        "def eval(model, df):\n",
        "  matrix = np.array([[0, 0], [0, 0]])\n",
        "  with torch.inference_mode():\n",
        "    for _, data in enumerate(train_loader, 0):\n",
        "          ids = data['ids'].to(device, dtype = torch.long)\n",
        "          mask = data['mask'].to(device, dtype = torch.long)\n",
        "          y = data['targets']\n",
        "          pred = model(ids, mask).max(axis=1).indices.cpu()\n",
        "          matrix += confusion_matrix(y, pred)\n",
        "\n",
        "    true_neg, false_pos, false_neg, true_pos = matrix.ravel()\n",
        "\n",
        "    accuracy = (true_neg+true_pos) / (true_neg+false_pos+false_neg+true_pos)\n",
        "    accuracy = round(accuracy, 2)\n",
        "    prec = round(true_pos/(true_pos + false_pos), 2)\n",
        "    rec = round(true_pos/(true_pos + false_neg), 2)\n",
        "    f1 = round((2 * prec * rec)/(prec + rec), 2)\n",
        "    print(f'True positive: {true_pos}')\n",
        "    print(f'False positive: {false_pos}')\n",
        "    print(f'False negative: {false_neg}')\n",
        "    print(f'True negative: {true_neg}')\n",
        "    print(f'Accuracy: {accuracy}')\n",
        "    print(f'Precision: {prec}')\n",
        "    print(f'Recall: {rec}')\n",
        "    print(f'F1: {f1}')\n",
        "  return matrix"
      ]
    },
    {
      "cell_type": "code",
      "source": [
        "matrix = eval(model, train_loader)"
      ],
      "metadata": {
        "colab": {
          "base_uri": "https://localhost:8080/"
        },
        "id": "VEK2JaaEOJZu",
        "outputId": "d5e1343e-fe88-40b0-b710-2eb8b06ef35c"
      },
      "execution_count": null,
      "outputs": [
        {
          "output_type": "stream",
          "name": "stdout",
          "text": [
            "True positive: 5333\n",
            "False positive: 720\n",
            "False negative: 625\n",
            "True negative: 5167\n",
            "Accuracy: 0.89\n",
            "Precision: 0.88\n",
            "Recall: 0.9\n",
            "F1: 0.89\n"
          ]
        }
      ]
    },
    {
      "cell_type": "code",
      "source": [
        "output_model_file = 'models/pytorch_distilbert_news.bin'\n",
        "output_vocab_file = 'models/vocab_bert_news.bin'\n",
        "\n",
        "model_to_save = model\n",
        "torch.save(model_to_save, output_model_file)\n",
        "tokenizer.save_pretrained(output_vocab_file)"
      ],
      "metadata": {
        "colab": {
          "base_uri": "https://localhost:8080/"
        },
        "id": "05BvCpV3WEFU",
        "outputId": "0a0defe6-cd0f-4ce7-e713-078ef21ef650"
      },
      "execution_count": null,
      "outputs": [
        {
          "output_type": "execute_result",
          "data": {
            "text/plain": [
              "('/content/models/vocab_bert_news.bin/tokenizer_config.json',\n",
              " '/content/models/vocab_bert_news.bin/special_tokens_map.json',\n",
              " '/content/models/vocab_bert_news.bin/vocab.txt',\n",
              " '/content/models/vocab_bert_news.bin/added_tokens.json',\n",
              " '/content/models/vocab_bert_news.bin/tokenizer.json')"
            ]
          },
          "metadata": {},
          "execution_count": 68
        }
      ]
    }
  ],
  "metadata": {
    "colab": {
      "provenance": [],
      "mount_file_id": "1vP3EkTAugMRH9Vds16veHrA5MusQdr66",
      "authorship_tag": "ABX9TyMo2V2Wzkur06Z8fahEnrrt"
    },
    "kernelspec": {
      "display_name": "Python 3",
      "name": "python3"
    },
    "language_info": {
      "name": "python"
    }
  },
  "nbformat": 4,
  "nbformat_minor": 0
}